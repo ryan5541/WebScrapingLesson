{
 "cells": [
  {
   "cell_type": "markdown",
   "metadata": {},
   "source": [
    "Suppose there was data on a website that does not offer the option to save it to a file. One solution is to physically copy and paste all the data into a file.\n",
    "This is unsustainable for large datasets."
   ]
  },
  {
   "cell_type": "markdown",
   "metadata": {},
   "source": [
    "However, we do know that a website is really just HTML that is interepreted by a web browser. Perhaps we can make Python somehow read the elements of tags that contain the data that we want? In addition, we know that HTTP, using a GET request, is able to return the HTML of a website."
   ]
  },
  {
   "cell_type": "markdown",
   "metadata": {},
   "source": [
    "With this in mind, we now have an idea: 1. Have Python get the HTML. 2. Make Python understand what in the world it just got. 3. Tell it to grab stuff from the HTML now that it knows what it is."
   ]
  },
  {
   "cell_type": "code",
   "execution_count": 3,
   "metadata": {},
   "outputs": [],
   "source": [
    "#This library will help us get the HTML from the website.\n",
    "import requests\n",
    "\n",
    "#This library will help Python understand the HTML.\n",
    "from bs4 import BeautifulSoup"
   ]
  },
  {
   "cell_type": "markdown",
   "metadata": {},
   "source": [
    "First we get the HTML. Here, \"response\" is an object representing an HTTP GET request. \"text\" is an variable of that object that contains the HTML."
   ]
  },
  {
   "cell_type": "code",
   "execution_count": null,
   "metadata": {},
   "outputs": [],
   "source": [
    "#Get the HTML\n",
    "response = requests.get('https://www.countrycode.org/')\n",
    "html = response.text #response.text is the HTML of the website\n",
    "print(html) #Compare this output to the source code of the website.\n",
    "#type(html) #This is a string."
   ]
  },
  {
   "cell_type": "markdown",
   "metadata": {},
   "source": [
    "But to Python, this html variable is just a bunch of text. It doesn't mean anything special. This is where we use BeautifulSoup."
   ]
  },
  {
   "cell_type": "code",
   "execution_count": null,
   "metadata": {},
   "outputs": [],
   "source": [
    "#Make BeautifulSoup teach Python about HTML\n",
    "soup = BeautifulSoup(html, 'html.parser')\n",
    "print(soup) #This looks the same as the html variable above, but there is one crucial difference: now the HTML tags actually mean something to Python."
   ]
  },
  {
   "cell_type": "markdown",
   "metadata": {},
   "source": [
    "Now that Python can read HTML tags, let's plan out how we can use this to our advantage. This part will not be the same every time since different websites will have different HTML. Using the developer tools, we observe that all the data is inside a tag called \"tbody\". In particular, each row of the table is represented by \"tr\" and within each row, an individual cell's data is represented by \"td\"."
   ]
  },
  {
   "cell_type": "markdown",
   "metadata": {},
   "source": [
    "Because of this, we now have a plan: Go through each of the rows in the table, and then from each row, return the individual cells. A \"for\" loop could be useful here. The pseudocode for this is listed below."
   ]
  },
  {
   "cell_type": "code",
   "execution_count": 6,
   "metadata": {},
   "outputs": [],
   "source": [
    "#Strategy:\n",
    "\n",
    "#go through each row of the table\n",
    "    #then grab a cell's data from the row.\n",
    "\n",
    "#Let's start translating this into Pythonese\n",
    "    #for each of the rows (tr) in the table (tbody):\n",
    "        # get the cell's data (td) and store it somewhere, perhaps a dictionary\n",
    "            # a dictionary could be helpful here because we can name the keys to keep track of where the values are going\n",
    "        # then store all the dictionaries somewhere (perhaps appending to a list?)    "
   ]
  },
  {
   "cell_type": "markdown",
   "metadata": {},
   "source": [
    "Before we move on, however, let's understand how we can \"drill down\" into the table using Python. After all, if we can make this work for 1 element, we can extend the logic to the entire table."
   ]
  },
  {
   "cell_type": "code",
   "execution_count": null,
   "metadata": {},
   "outputs": [],
   "source": [
    "#It is recommended to uncomment the code underneath each variable assignment to see what each new variable looks like.\n",
    "\n",
    "table_body = soup.find('tbody') #This returns the first occurrence of <tbody> in the HTML. Fortunately, this is the one that we need.\n",
    "#table_body\n",
    "table_rows = table_body.find_all('tr') #This returns a list of <tr> HTML tags. CAUTION: this is a LIST of TAGS, not the HTML itself.\n",
    "#table_rows\n",
    "#table_datas = table_rows.find_all('td') #This is wrong. This is because you're trying to call the find_all method on a list. But find_all is the method of an HTML tag.\n",
    "table_datas = table_rows[0].find_all('td') #This correctly returns a list of <td> HTML tags.\n",
    "#table_datas\n",
    "#table_datas[0] #Let's look at the 1st element of this list. This is an HTML tag. However, we want the element inside the tag.\n",
    "table_datas[0].string #This turns the element of the 1st <td> tag into a string. Bingo. See what happens when you replace the 0 with other indices."
   ]
  },
  {
   "cell_type": "markdown",
   "metadata": {},
   "source": [
    "As seen above, we have successfully returned the HTML element that we wanted. Let's take what we've learned and apply it to our Pythonese pseudocode."
   ]
  },
  {
   "cell_type": "code",
   "execution_count": null,
   "metadata": {},
   "outputs": [],
   "source": [
    "countries = [] #Remember: we would like to store the dictionaries into one list.\n",
    "for row in table_rows: #Looping through the table.\n",
    "    table_datas = row.find_all('td') #Finding the <td> tags\n",
    "    country = {} #initializing the dictionary for each country row, and resetting it to empty after a row is filled out\n",
    "    country['name'] = table_datas[0].string #the 'name' key of the dictionary now has the name of the country\n",
    "    country['country code'] = table_datas[1].string #the 'country' key of the dictionary now has the country code\n",
    "    countrycodes = table_datas[2].string.split('/')#this element of the table_datas list is actually a string with two parts. we would like to split it...\n",
    "    country['iso-2'] = countrycodes[0] #...put the first element in one dictionary key\n",
    "    country['iso-3'] = countrycodes[1] #...then put the second element in another dictionary key\n",
    "    country['population'] = table_datas[3].string #population key now has the population value\n",
    "    country['area'] = table_datas[4].string #area key now has the area value\n",
    "    country['gdp'] = table_datas[5].string #gdp key now has the gdp value\n",
    "    countries.append(country) #appends the country dictionary to the list\n",
    "\n",
    "countries #We did it!"
   ]
  }
 ],
 "metadata": {
  "kernelspec": {
   "display_name": "Python 3.9.12 ('base')",
   "language": "python",
   "name": "python3"
  },
  "language_info": {
   "codemirror_mode": {
    "name": "ipython",
    "version": 3
   },
   "file_extension": ".py",
   "mimetype": "text/x-python",
   "name": "python",
   "nbconvert_exporter": "python",
   "pygments_lexer": "ipython3",
   "version": "3.9.12"
  },
  "orig_nbformat": 4,
  "vscode": {
   "interpreter": {
    "hash": "ad2bdc8ecc057115af97d19610ffacc2b4e99fae6737bb82f5d7fb13d2f2c186"
   }
  }
 },
 "nbformat": 4,
 "nbformat_minor": 2
}
